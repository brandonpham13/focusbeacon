{
 "cells": [
  {
   "cell_type": "code",
   "execution_count": 7,
   "metadata": {},
   "outputs": [],
   "source": [
    "import pandas as pd\n",
    "import sys\n",
    "sys.path.append('..')\n",
    "sys.path.append('../..')\n",
    "sys.path.append('../../..')\n",
    "from helpers.focusmate import fm_sessions_data_to_df\n",
    "from sample_data.sessions import sample_sessions"
   ]
  },
  {
   "cell_type": "code",
   "execution_count": 8,
   "metadata": {},
   "outputs": [],
   "source": [
    "local_timezone = \"America/New_York\""
   ]
  },
  {
   "cell_type": "code",
   "execution_count": 9,
   "metadata": {},
   "outputs": [],
   "source": [
    "sessions = fm_sessions_data_to_df(sample_sessions, local_timezone)"
   ]
  },
  {
   "cell_type": "code",
   "execution_count": 10,
   "metadata": {},
   "outputs": [],
   "source": [
    "daily_streak = 0"
   ]
  },
  {
   "cell_type": "code",
   "execution_count": 18,
   "metadata": {},
   "outputs": [
    {
     "name": "stdout",
     "output_type": "stream",
     "text": [
      "<class 'datetime.date'>\n",
      "<class 'datetime.date'>\n",
      "True\n",
      "<class 'datetime.date'>\n",
      "<class 'datetime.date'>\n",
      "True\n",
      "<class 'datetime.date'>\n",
      "<class 'datetime.date'>\n",
      "True\n",
      "<class 'datetime.date'>\n",
      "<class 'datetime.date'>\n",
      "False\n"
     ]
    }
   ],
   "source": [
    "sessions['start_time_date'] = sessions['start_time'].dt.date\n",
    "\n",
    "yesterday = (pd.Timestamp.today() -\n",
    "              pd.Timedelta(days=1)).date()\n",
    "\n",
    "full_date_range = pd.date_range(\n",
    "    start=sessions['start_time_date'].min(), end=yesterday)\n",
    "\n",
    "# TODO: update index.py with this code\n",
    "full_date_range_dates = [date.date() for date in full_date_range]\n",
    "\n",
    "dates_set = set(sessions['start_time_date'])\n",
    "\n",
    "for date in reversed(full_date_range_dates):\n",
    "    print(type(date))\n",
    "    print(type(next(iter(dates_set))))\n",
    "    print(date in dates_set)\n",
    "    if date in dates_set:\n",
    "        daily_streak += 1\n",
    "    else:\n",
    "        break"
   ]
  },
  {
   "cell_type": "code",
   "execution_count": 13,
   "metadata": {},
   "outputs": [
    {
     "data": {
      "text/html": [
       "<div>\n",
       "<style scoped>\n",
       "    .dataframe tbody tr th:only-of-type {\n",
       "        vertical-align: middle;\n",
       "    }\n",
       "\n",
       "    .dataframe tbody tr th {\n",
       "        vertical-align: top;\n",
       "    }\n",
       "\n",
       "    .dataframe thead th {\n",
       "        text-align: right;\n",
       "    }\n",
       "</style>\n",
       "<table border=\"1\" class=\"dataframe\">\n",
       "  <thead>\n",
       "    <tr style=\"text-align: right;\">\n",
       "      <th></th>\n",
       "      <th>session_id</th>\n",
       "      <th>duration</th>\n",
       "      <th>start_time</th>\n",
       "      <th>requested_at</th>\n",
       "      <th>joined_at</th>\n",
       "      <th>completed</th>\n",
       "      <th>session_title</th>\n",
       "      <th>partner_id</th>\n",
       "      <th>start_time_date</th>\n",
       "    </tr>\n",
       "  </thead>\n",
       "  <tbody>\n",
       "    <tr>\n",
       "      <th>0</th>\n",
       "      <td>9b6140bd-f2e3-44ef-8903-26834373e6c8</td>\n",
       "      <td>3000000</td>\n",
       "      <td>2024-06-01 14:15:00</td>\n",
       "      <td>2024-05-30 14:12:15.120065</td>\n",
       "      <td>2024-05-30 14:12:33.261514</td>\n",
       "      <td>True</td>\n",
       "      <td></td>\n",
       "      <td>b4bc6097-4040-4ad6-a532-b211e2a1b314</td>\n",
       "      <td>2024-06-01</td>\n",
       "    </tr>\n",
       "    <tr>\n",
       "      <th>1</th>\n",
       "      <td>a6563e8b-9a87-4ba9-9dd8-20da30c2b502</td>\n",
       "      <td>3000000</td>\n",
       "      <td>2024-06-01 09:15:00</td>\n",
       "      <td>2024-05-30 09:05:47.092976</td>\n",
       "      <td>2024-05-30 09:13:52.917311</td>\n",
       "      <td>True</td>\n",
       "      <td></td>\n",
       "      <td>70a2fedf-1079-4f0e-b893-8b26067a0bc2</td>\n",
       "      <td>2024-06-01</td>\n",
       "    </tr>\n",
       "    <tr>\n",
       "      <th>2</th>\n",
       "      <td>0e98d262-d3fd-4cca-9a58-47a239f8e639</td>\n",
       "      <td>3000000</td>\n",
       "      <td>2024-05-31 08:15:00</td>\n",
       "      <td>2024-05-26 10:33:07.137416</td>\n",
       "      <td>2024-05-30 08:12:48.786790</td>\n",
       "      <td>True</td>\n",
       "      <td></td>\n",
       "      <td>fde6e2d1-df8e-4cc7-86fd-4f5a7a9f61b6</td>\n",
       "      <td>2024-05-31</td>\n",
       "    </tr>\n",
       "    <tr>\n",
       "      <th>3</th>\n",
       "      <td>dc5257dc-7e68-4ff9-a1c7-652af49216a8</td>\n",
       "      <td>3000000</td>\n",
       "      <td>2024-05-30 07:15:00</td>\n",
       "      <td>2024-05-26 10:33:03.998848</td>\n",
       "      <td>2024-05-30 07:14:57.723435</td>\n",
       "      <td>True</td>\n",
       "      <td></td>\n",
       "      <td>70a2fedf-1079-4f0e-b893-8b26067a0bc2</td>\n",
       "      <td>2024-05-30</td>\n",
       "    </tr>\n",
       "    <tr>\n",
       "      <th>4</th>\n",
       "      <td>1e02bca9-cbdc-4d3d-a6ed-59a764e121d1</td>\n",
       "      <td>3000000</td>\n",
       "      <td>2024-05-28 08:15:00</td>\n",
       "      <td>2024-05-26 10:33:06.061438</td>\n",
       "      <td>2024-05-29 08:16:02.665237</td>\n",
       "      <td>True</td>\n",
       "      <td></td>\n",
       "      <td>62c5fa49-4494-4ef0-b2d7-b07de37d27b8</td>\n",
       "      <td>2024-05-28</td>\n",
       "    </tr>\n",
       "  </tbody>\n",
       "</table>\n",
       "</div>"
      ],
      "text/plain": [
       "                             session_id  duration          start_time  \\\n",
       "0  9b6140bd-f2e3-44ef-8903-26834373e6c8   3000000 2024-06-01 14:15:00   \n",
       "1  a6563e8b-9a87-4ba9-9dd8-20da30c2b502   3000000 2024-06-01 09:15:00   \n",
       "2  0e98d262-d3fd-4cca-9a58-47a239f8e639   3000000 2024-05-31 08:15:00   \n",
       "3  dc5257dc-7e68-4ff9-a1c7-652af49216a8   3000000 2024-05-30 07:15:00   \n",
       "4  1e02bca9-cbdc-4d3d-a6ed-59a764e121d1   3000000 2024-05-28 08:15:00   \n",
       "\n",
       "                requested_at                  joined_at  completed  \\\n",
       "0 2024-05-30 14:12:15.120065 2024-05-30 14:12:33.261514       True   \n",
       "1 2024-05-30 09:05:47.092976 2024-05-30 09:13:52.917311       True   \n",
       "2 2024-05-26 10:33:07.137416 2024-05-30 08:12:48.786790       True   \n",
       "3 2024-05-26 10:33:03.998848 2024-05-30 07:14:57.723435       True   \n",
       "4 2024-05-26 10:33:06.061438 2024-05-29 08:16:02.665237       True   \n",
       "\n",
       "  session_title                            partner_id start_time_date  \n",
       "0                b4bc6097-4040-4ad6-a532-b211e2a1b314      2024-06-01  \n",
       "1                70a2fedf-1079-4f0e-b893-8b26067a0bc2      2024-06-01  \n",
       "2                fde6e2d1-df8e-4cc7-86fd-4f5a7a9f61b6      2024-05-31  \n",
       "3                70a2fedf-1079-4f0e-b893-8b26067a0bc2      2024-05-30  \n",
       "4                62c5fa49-4494-4ef0-b2d7-b07de37d27b8      2024-05-28  "
      ]
     },
     "execution_count": 13,
     "metadata": {},
     "output_type": "execute_result"
    }
   ],
   "source": [
    "sessions.head()"
   ]
  },
  {
   "cell_type": "code",
   "execution_count": 19,
   "metadata": {},
   "outputs": [
    {
     "name": "stdout",
     "output_type": "stream",
     "text": [
      "2024-06-01\n",
      "DatetimeIndex(['2024-05-28', '2024-05-29', '2024-05-30', '2024-05-31',\n",
      "               '2024-06-01'],\n",
      "              dtype='datetime64[ns]', freq='D')\n",
      "{datetime.date(2024, 6, 1), datetime.date(2024, 5, 31), datetime.date(2024, 5, 30), datetime.date(2024, 5, 28)}\n",
      "3\n"
     ]
    }
   ],
   "source": [
    "print(yesterday)\n",
    "print(full_date_range)\n",
    "print(dates_set)\n",
    "print(daily_streak)"
   ]
  }
 ],
 "metadata": {
  "kernelspec": {
   "display_name": ".venv",
   "language": "python",
   "name": "python3"
  },
  "language_info": {
   "codemirror_mode": {
    "name": "ipython",
    "version": 3
   },
   "file_extension": ".py",
   "mimetype": "text/x-python",
   "name": "python",
   "nbconvert_exporter": "python",
   "pygments_lexer": "ipython3",
   "version": "3.11.3"
  }
 },
 "nbformat": 4,
 "nbformat_minor": 2
}
