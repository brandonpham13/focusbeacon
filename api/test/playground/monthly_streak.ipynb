{
 "cells": [
  {
   "cell_type": "code",
   "execution_count": 1,
   "metadata": {},
   "outputs": [],
   "source": [
    "import pandas as pd\n",
    "import sys\n",
    "sys.path.append('..')\n",
    "sys.path.append('../..')\n",
    "sys.path.append('../../..')\n",
    "\n",
    "import os\n",
    "from dotenv import load_dotenv\n",
    "load_dotenv()\n",
    "\n",
    "import ssl\n",
    "ssl._create_default_https_context = ssl._create_stdlib_context\n",
    "\n",
    "from helpers.focusmate import fm_sessions_data_to_df\n",
    "from api.helpers.focusmate import fetch_all_focusmate_sessions, fetch_focusmate_profile\n",
    "from api.helpers.request import get_access_token_from_db\n",
    "\n",
    "fm_api_profile_endpoint = os.getenv(\"NEXT_PUBLIC_FM_API_PROFILE_ENDPOINT\")\n",
    "fm_api_sessions_endpoint = os.getenv(\"NEXT_PUBLIC_FM_API_SESSIONS_ENDPOINT\")\n",
    "session_id = \"\"\n",
    "local_timezone = \"America/New_York\""
   ]
  },
  {
   "cell_type": "code",
   "execution_count": 2,
   "metadata": {},
   "outputs": [],
   "source": [
    "access_token = get_access_token_from_db(session_id)\n",
    "\n",
    "profile_data = fetch_focusmate_profile(\n",
    "        fm_api_profile_endpoint, access_token).get(\"user\")\n",
    "local_timezone: str = profile_data.get(\"timeZone\")\n",
    "member_since: str = profile_data.get(\"memberSince\")\n",
    "\n",
    "sessions_data = await fetch_all_focusmate_sessions(\n",
    "    fm_api_sessions_endpoint, access_token, member_since)\n",
    "\n",
    "all_sessions = fm_sessions_data_to_df(sessions_data, local_timezone)\n",
    "sessions = all_sessions[all_sessions['completed'] == True].copy()"
   ]
  },
  {
   "cell_type": "code",
   "execution_count": 3,
   "metadata": {},
   "outputs": [],
   "source": [
    "sessions['start_time_month'] = sessions['start_time'].dt.to_period('M')\n",
    "\n",
    "# Get the last month\n",
    "last_month = (pd.Timestamp.today().to_period('M') - 1)\n",
    "\n",
    "# Create a complete range of months up to the last month\n",
    "full_month_range = pd.period_range(start=sessions['start_time_month'].min(), end=last_month, freq='M')\n",
    "\n",
    "# Convert months to a set for quick lookup\n",
    "months_set = set(sessions['start_time_month'])\n",
    "\n",
    "# Initialize the streak counter\n",
    "monthly_streak = 0\n",
    "\n",
    "# Check for consecutive months in the range\n",
    "for month in reversed(full_month_range):\n",
    "    if month in months_set:\n",
    "        monthly_streak += 1\n",
    "    else:\n",
    "        break"
   ]
  },
  {
   "cell_type": "code",
   "execution_count": 4,
   "metadata": {},
   "outputs": [
    {
     "name": "stdout",
     "output_type": "stream",
     "text": [
      "2024-05\n",
      "PeriodIndex(['2021-04', '2021-05', '2021-06', '2021-07', '2021-08', '2021-09',\n",
      "             '2021-10', '2021-11', '2021-12', '2022-01', '2022-02', '2022-03',\n",
      "             '2022-04', '2022-05', '2022-06', '2022-07', '2022-08', '2022-09',\n",
      "             '2022-10', '2022-11', '2022-12', '2023-01', '2023-02', '2023-03',\n",
      "             '2023-04', '2023-05', '2023-06', '2023-07', '2023-08', '2023-09',\n",
      "             '2023-10', '2023-11', '2023-12', '2024-01', '2024-02', '2024-03',\n",
      "             '2024-04', '2024-05'],\n",
      "            dtype='period[M]')\n",
      "{Period('2021-10', 'M'), Period('2022-09', 'M'), Period('2023-08', 'M'), Period('2023-10', 'M'), Period('2023-01', 'M'), Period('2022-11', 'M'), Period('2022-02', 'M'), Period('2023-12', 'M'), Period('2021-05', 'M'), Period('2023-03', 'M'), Period('2024-02', 'M'), Period('2023-05', 'M'), Period('2022-04', 'M'), Period('2021-07', 'M'), Period('2022-06', 'M'), Period('2024-04', 'M'), Period('2021-09', 'M'), Period('2022-08', 'M'), Period('2023-07', 'M'), Period('2024-06', 'M'), Period('2022-10', 'M'), Period('2023-09', 'M'), Period('2022-01', 'M'), Period('2021-11', 'M'), Period('2022-12', 'M'), Period('2023-11', 'M'), Period('2021-04', 'M'), Period('2022-03', 'M'), Period('2023-02', 'M'), Period('2024-01', 'M'), Period('2023-06', 'M'), Period('2021-06', 'M'), Period('2022-05', 'M'), Period('2024-03', 'M'), Period('2021-08', 'M'), Period('2023-04', 'M'), Period('2022-07', 'M'), Period('2024-05', 'M')}\n",
      "29\n"
     ]
    }
   ],
   "source": [
    "print(last_month)\n",
    "print(full_month_range)\n",
    "print(months_set)\n",
    "print(monthly_streak)"
   ]
  }
 ],
 "metadata": {
  "kernelspec": {
   "display_name": ".venv",
   "language": "python",
   "name": "python3"
  },
  "language_info": {
   "codemirror_mode": {
    "name": "ipython",
    "version": 3
   },
   "file_extension": ".py",
   "mimetype": "text/x-python",
   "name": "python",
   "nbconvert_exporter": "python",
   "pygments_lexer": "ipython3",
   "version": "3.12.3"
  }
 },
 "nbformat": 4,
 "nbformat_minor": 2
}
