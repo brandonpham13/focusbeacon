{
 "cells": [
  {
   "cell_type": "markdown",
   "metadata": {},
   "source": []
  },
  {
   "cell_type": "code",
   "execution_count": 12,
   "metadata": {},
   "outputs": [],
   "source": [
    "import pandas as pd\n",
    "import os\n",
    "import sys\n",
    "from dotenv import load_dotenv\n",
    "import ssl\n",
    "\n",
    "sys.path.append('..')\n",
    "sys.path.append('../..')\n",
    "sys.path.append('../../..')\n",
    "ssl._create_default_https_context = ssl._create_stdlib_context\n",
    "load_dotenv()\n",
    "\n",
    "# Must restart the kernel if any of the following imported modules are changed\n",
    "from helpers.focusmate import fm_sessions_data_to_df\n",
    "from api.helpers.focusmate import fetch_all_focusmate_sessions, fetch_focusmate_profile\n",
    "from api.helpers.request import get_access_token_from_db\n",
    "from api.test.sample_data.sessions import sample_sessions\n",
    "\n",
    "fm_api_profile_endpoint = os.getenv(\"NEXT_PUBLIC_FM_API_PROFILE_ENDPOINT\")\n",
    "fm_api_sessions_endpoint = os.getenv(\"NEXT_PUBLIC_FM_API_SESSIONS_ENDPOINT\")\n",
    "session_id = \"\"\n",
    "local_timezone = \"America/New_York\""
   ]
  },
  {
   "cell_type": "code",
   "execution_count": 13,
   "metadata": {},
   "outputs": [],
   "source": [
    "access_token = get_access_token_from_db(session_id)\n",
    "\n",
    "profile_data = fetch_focusmate_profile(\n",
    "        fm_api_profile_endpoint, access_token).get(\"user\")\n",
    "local_timezone: str = profile_data.get(\"timeZone\")\n",
    "\n",
    "# Option A: use all sessions\n",
    "member_since: str = profile_data.get(\"memberSince\")\n",
    "sessions_data = await fetch_all_focusmate_sessions(\n",
    "    fm_api_sessions_endpoint, access_token, member_since)\n",
    "\n",
    "# Option B: use sample sessions\n",
    "# sessions_data = sample_sessions\n",
    "\n",
    "all_sessions = fm_sessions_data_to_df(sessions_data, local_timezone)\n",
    "sessions = all_sessions[all_sessions['completed'] == True].copy()\n",
    "\n",
    "sessions_copy = sessions.copy()\n",
    "\n",
    "# sessions_copy['start_date'] = sessions_copy['start_time'].dt.date\n",
    "\n",
    "# sessions_copy.sort_values('start_date', inplace=True)\n",
    "\n",
    "# sessions_copy.head()"
   ]
  },
  {
   "cell_type": "code",
   "execution_count": 21,
   "metadata": {},
   "outputs": [
    {
     "data": {
      "text/plain": [
       "[{'date': '2024-05-28', 'value': 1},\n",
       " {'date': '2024-05-31', 'value': 2},\n",
       " {'date': '2024-06-01', 'value': 1},\n",
       " {'date': '2024-06-03', 'value': 1},\n",
       " {'date': '2024-06-04', 'value': 1},\n",
       " {'date': '2024-06-05', 'value': 1},\n",
       " {'date': '2024-06-07', 'value': 1}]"
      ]
     },
     "execution_count": 21,
     "metadata": {},
     "output_type": "execute_result"
    }
   ],
   "source": [
    "sessions_copy['start_date'] = sessions_copy['start_time'].dt.strftime('%Y-%m-%d')\n",
    "sessions_per_date = sessions_copy.groupby('start_date').size()\n",
    "sessions_per_date = sessions_per_date.reset_index()\n",
    "sessions_per_date.columns = ['date', 'value']\n",
    "sessions_per_date = sessions_per_date.to_dict(orient='records')\n",
    "sessions_per_date"
   ]
  }
 ],
 "metadata": {
  "kernelspec": {
   "display_name": ".venv",
   "language": "python",
   "name": "python3"
  },
  "language_info": {
   "codemirror_mode": {
    "name": "ipython",
    "version": 3
   },
   "file_extension": ".py",
   "mimetype": "text/x-python",
   "name": "python",
   "nbconvert_exporter": "python",
   "pygments_lexer": "ipython3",
   "version": "3.12.3"
  }
 },
 "nbformat": 4,
 "nbformat_minor": 2
}
