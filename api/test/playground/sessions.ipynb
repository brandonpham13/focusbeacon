{
 "cells": [
  {
   "cell_type": "code",
   "execution_count": 1,
   "metadata": {},
   "outputs": [],
   "source": [
    "'''Prepare the environment and import the necessary modules'''\n",
    "\n",
    "import pandas as pd\n",
    "import os\n",
    "import sys\n",
    "from dotenv import load_dotenv\n",
    "import ssl\n",
    "\n",
    "sys.path.append('..')\n",
    "sys.path.append('../..')\n",
    "sys.path.append('../../..')\n",
    "ssl._create_default_https_context = ssl._create_stdlib_context\n",
    "load_dotenv()\n",
    "\n",
    "# Must restart the kernel if any of the following imported modules are changed\n",
    "from helpers.focusmate import fm_sessions_data_to_df\n",
    "from api.helpers.focusmate import fetch_all_focusmate_sessions, \\\n",
    "  fetch_focusmate_profile\n",
    "from api.helpers.request import get_access_token_from_db\n",
    "from api.test.sample_data.sessions import sample_sessions\n",
    "\n",
    "fm_api_profile_endpoint = os.getenv(\"NEXT_PUBLIC_FM_API_PROFILE_ENDPOINT\")\n",
    "fm_api_sessions_endpoint = os.getenv(\"NEXT_PUBLIC_FM_API_SESSIONS_ENDPOINT\")\n",
    "session_id = \"\"\n",
    "local_timezone = \"America/New_York\""
   ]
  },
  {
   "cell_type": "code",
   "execution_count": 2,
   "metadata": {},
   "outputs": [],
   "source": [
    "'''Get the sessions DataFrame'''\n",
    "\n",
    "access_token = get_access_token_from_db(session_id)\n",
    "\n",
    "profile_data = fetch_focusmate_profile(\n",
    "        fm_api_profile_endpoint, access_token).get(\"user\")\n",
    "local_timezone: str = profile_data.get(\"timeZone\")\n",
    "\n",
    "# Option A: use all sessions\n",
    "member_since: str = profile_data.get(\"memberSince\")\n",
    "sessions_data = await fetch_all_focusmate_sessions(\n",
    "    fm_api_sessions_endpoint, access_token, member_since)\n",
    "\n",
    "# Option B: use sample sessions\n",
    "# sessions_data = sample_sessions\n",
    "\n",
    "all_sessions = fm_sessions_data_to_df(sessions_data, local_timezone)\n",
    "sessions = all_sessions[all_sessions['completed'] == True].copy()\n",
    "\n",
    "sessions_copy = sessions.copy()"
   ]
  },
  {
   "cell_type": "code",
   "execution_count": 3,
   "metadata": {},
   "outputs": [],
   "source": [
    "'''Playground space'''\n"
   ]
  }
 ],
 "metadata": {
  "kernelspec": {
   "display_name": ".venv",
   "language": "python",
   "name": "python3"
  },
  "language_info": {
   "codemirror_mode": {
    "name": "ipython",
    "version": 3
   },
   "file_extension": ".py",
   "mimetype": "text/x-python",
   "name": "python",
   "nbconvert_exporter": "python",
   "pygments_lexer": "ipython3",
   "version": "3.12.3"
  }
 },
 "nbformat": 4,
 "nbformat_minor": 2
}
